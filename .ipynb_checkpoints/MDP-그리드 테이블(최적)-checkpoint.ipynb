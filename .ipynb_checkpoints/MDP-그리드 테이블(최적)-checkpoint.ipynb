{
 "cells": [
  {
   "cell_type": "code",
   "execution_count": 1,
   "id": "c72cf80d",
   "metadata": {},
   "outputs": [],
   "source": [
    "from  matplotlib import pyplot\n",
    "import numpy as np"
   ]
  },
  {
   "cell_type": "code",
   "execution_count": 2,
   "id": "5487ffbc",
   "metadata": {},
   "outputs": [],
   "source": [
    "## 변수 지정\n",
    "# K : 반복 횟수\n",
    "# ret : 보상계수\n",
    "# pi : 정책 확률\n",
    "# Gamma : 감쇠계수\n",
    "# Per : 전이확률\n",
    "K=5\n",
    "ret = -1\n",
    "pi = 1\n",
    "Gamma = 1\n",
    "Per= 1"
   ]
  },
  {
   "cell_type": "code",
   "execution_count": 3,
   "id": "bcf59199",
   "metadata": {},
   "outputs": [],
   "source": [
    "## 초기행렬 생성\n",
    "MDP = np.zeros(shape=(4,4))"
   ]
  },
  {
   "cell_type": "code",
   "execution_count": 4,
   "id": "ee66c394",
   "metadata": {},
   "outputs": [],
   "source": [
    "## 함수 생성\n",
    "\n",
    "# 행렬간의 연결\n",
    "def T_cal(Matrix):\n",
    "    Matrix1=np.zeros(shape=(4,4))\n",
    "    for j in range(Matrix.shape[1]):\n",
    "        for i in range(Matrix.shape[0]):\n",
    "            if i!=3 or j!=3 :\n",
    "                for p in L_cal(Matrix,i,j):\n",
    "                    Matrix1[i,j]+= O_cal(p)/len(L_cal(Matrix,i,j))\n",
    "    return Matrix1\n",
    "                \n",
    "# 생산 가치 함수                 \n",
    "def O_cal(M):\n",
    "    return pi * ( ret + Gamma * Per * M )\n",
    "\n",
    "# 행렬 내 데이터값의 위치에 따른 계산 함수               \n",
    "def L_cal(M,i,j):\n",
    "    A_list=[-1,1]\n",
    "    B_list=[]\n",
    "    for k in A_list:\n",
    "        if 0<=i+k<=M.shape[0]-1:\n",
    "            B_list.append(M[i+k,j])\n",
    "        if 0<=j+k<=M.shape[1]-1:\n",
    "            B_list.append(M[i,j+k])\n",
    "    return B_list"
   ]
  },
  {
   "cell_type": "code",
   "execution_count": 5,
   "id": "12af2cdd",
   "metadata": {
    "scrolled": true
   },
   "outputs": [
    {
     "name": "stdout",
     "output_type": "stream",
     "text": [
      "[[-1. -1. -1. -1.]\n",
      " [-1. -1. -1. -1.]\n",
      " [-1. -1. -1. -1.]\n",
      " [-1. -1. -1.  0.]]\n",
      "[[-2.         -2.         -2.         -2.        ]\n",
      " [-2.         -2.         -2.         -2.        ]\n",
      " [-2.         -2.         -2.         -1.66666667]\n",
      " [-2.         -2.         -1.66666667  0.        ]]\n",
      "[[-3.         -3.         -3.         -3.        ]\n",
      " [-3.         -3.         -3.         -2.88888889]\n",
      " [-3.         -3.         -2.83333333 -2.33333333]\n",
      " [-3.         -2.88888889 -2.33333333  0.        ]]\n",
      "[[-4.         -4.         -4.         -3.94444444]\n",
      " [-4.         -4.         -3.93055556 -3.77777778]\n",
      " [-4.         -3.93055556 -3.66666667 -2.90740741]\n",
      " [-3.94444444 -3.77777778 -2.90740741  0.        ]]\n",
      "[[-5.         -5.         -4.95833333 -4.88888889]\n",
      " [-5.         -4.96527778 -4.86111111 -4.5941358 ]\n",
      " [-4.95833333 -4.86111111 -4.41898148 -3.48148148]\n",
      " [-4.88888889 -4.5941358  -3.48148148  0.        ]]\n"
     ]
    }
   ],
   "source": [
    "Result=[]\n",
    "for i in range(1,6):\n",
    "    MDP=T_cal(MDP)\n",
    "    print(MDP)\n",
    "    Result.append(T_cal(MDP))"
   ]
  },
  {
   "cell_type": "code",
   "execution_count": null,
   "id": "056cb0dd",
   "metadata": {},
   "outputs": [],
   "source": []
  }
 ],
 "metadata": {
  "kernelspec": {
   "display_name": "Python 3 (ipykernel)",
   "language": "python",
   "name": "python3"
  },
  "language_info": {
   "codemirror_mode": {
    "name": "ipython",
    "version": 3
   },
   "file_extension": ".py",
   "mimetype": "text/x-python",
   "name": "python",
   "nbconvert_exporter": "python",
   "pygments_lexer": "ipython3",
   "version": "3.9.6"
  }
 },
 "nbformat": 4,
 "nbformat_minor": 5
}
