{
 "cells": [
  {
   "cell_type": "code",
   "execution_count": 1,
   "id": "351067e5",
   "metadata": {},
   "outputs": [],
   "source": [
    "import random"
   ]
  },
  {
   "cell_type": "code",
   "execution_count": 2,
   "id": "b3d6ee28",
   "metadata": {},
   "outputs": [],
   "source": [
    "class GridWorld():\n",
    "    def __init__(self):\n",
    "        self.x=0\n",
    "        self.y=0\n",
    "        \n",
    "    def step(self,a):\n",
    "        if a==0:\n",
    "            self.move_right()\n",
    "        elif a==1 :\n",
    "            self.move_left()\n",
    "        elif a==2 :\n",
    "            self.move_up()\n",
    "        elif a==3 :\n",
    "            self.move_down()\n",
    "        reward = -1\n",
    "        done = self.is_done()\n",
    "        return(self.x,self.y),reward,done\n",
    "    \n",
    "    def move_right(self):\n",
    "        self.y +=1\n",
    "        if self.y>3:\n",
    "            self.y=3\n",
    "        \n",
    "    def move_left(self):\n",
    "        self.y-=1\n",
    "        if self.y<0:\n",
    "            self.y=0\n",
    "            \n",
    "    def move_up(self):\n",
    "        self.x-=1\n",
    "        if self.x<0:\n",
    "            self.x=0\n",
    "            \n",
    "    def move_down(self):\n",
    "        self.x +=1\n",
    "        if self.x>3:\n",
    "            self.x=3\n",
    "    \n",
    "    def is_done(self):\n",
    "        if self.x ==3 and self.y ==3 :\n",
    "            return True\n",
    "        else :\n",
    "            return False\n",
    "        \n",
    "    def get_state(self):\n",
    "        return(self.x,self,y)\n",
    "    \n",
    "    def reset(self):\n",
    "        self.x=0\n",
    "        self.y=0\n",
    "        return (self.x,self.y)"
   ]
  },
  {
   "cell_type": "code",
   "execution_count": 3,
   "id": "f55f17ec",
   "metadata": {},
   "outputs": [],
   "source": [
    "class Agent():\n",
    "    def __init(self):\n",
    "        pass\n",
    "    \n",
    "    def select_action(self):\n",
    "        coin = random.random()\n",
    "        if coin<0.25 :\n",
    "            action = 0\n",
    "        elif coin <0.5:\n",
    "            action =1\n",
    "        elif coin <0.75 :\n",
    "            action = 2\n",
    "        elif coin < 1:\n",
    "            action =3\n",
    "        return action"
   ]
  },
  {
   "cell_type": "code",
   "execution_count": 4,
   "id": "0cda9e31",
   "metadata": {},
   "outputs": [],
   "source": [
    "def main():\n",
    "    env = GridWorld()\n",
    "    agent = Agent()\n",
    "    data = [[0,0,0,0],[0,0,0,0],[0,0,0,0],[0,0,0,0]]\n",
    "    gamma = 1.0\n",
    "    alpha = 0.001\n",
    "    T=0\n",
    "    Y=0\n",
    "    for k in range(500000):\n",
    "        done = False\n",
    "        history = []\n",
    "        while not done :\n",
    "            action = agent.select_action()\n",
    "            (x,y),reward,done = env.step(action)\n",
    "            history.append((x,y,reward))\n",
    "        T+=1\n",
    "        if T%50000 ==0 :\n",
    "            Y+=10\n",
    "            print(\"{}% 완료\".format(Y))\n",
    "        env.reset()\n",
    "        \n",
    "        # 매 에피소드가 끝나고 바로 해당 데이터를 이용해 테이블을 업데이트\n",
    "        cum_reward=0\n",
    "        for transition in history[::-1]:\n",
    "            # 방문했던 상태들을 뒤에서부터 보며 차례차례 리턴을 계산\n",
    "            x,y,reward = transition\n",
    "            data[x][y] = data[x][y] + alpha * (cum_reward - data[x][y])\n",
    "            cum_reward = reward + gamma * cum_reward\n",
    "            \n",
    "    # 학습이 끝나고 난 후 데이터를 출력해보기 위한 코드\n",
    "    for row in data:\n",
    "        print(row)"
   ]
  },
  {
   "cell_type": "code",
   "execution_count": 5,
   "id": "a0451ec2",
   "metadata": {},
   "outputs": [
    {
     "name": "stdout",
     "output_type": "stream",
     "text": [
      "10% 완료\n",
      "20% 완료\n",
      "30% 완료\n",
      "40% 완료\n",
      "50% 완료\n",
      "60% 완료\n",
      "70% 완료\n",
      "80% 완료\n",
      "90% 완료\n",
      "100% 완료\n",
      "[-53.1003001749776, -50.109996739429306, -46.13180218408531, -44.04721378145995]\n",
      "[-49.421232913241944, -47.02917249905364, -44.25687011719214, -38.30197413341402]\n",
      "[-47.800160697566085, -44.45437272323687, -37.44598199399774, -25.90289691050153]\n",
      "[-45.60017175898061, -41.189721095038855, -26.925557595880964, 0.0]\n"
     ]
    }
   ],
   "source": [
    "main()"
   ]
  },
  {
   "cell_type": "code",
   "execution_count": null,
   "id": "f9684022",
   "metadata": {},
   "outputs": [],
   "source": []
  }
 ],
 "metadata": {
  "kernelspec": {
   "display_name": "Python 3 (ipykernel)",
   "language": "python",
   "name": "python3"
  },
  "language_info": {
   "codemirror_mode": {
    "name": "ipython",
    "version": 3
   },
   "file_extension": ".py",
   "mimetype": "text/x-python",
   "name": "python",
   "nbconvert_exporter": "python",
   "pygments_lexer": "ipython3",
   "version": "3.9.6"
  }
 },
 "nbformat": 4,
 "nbformat_minor": 5
}
